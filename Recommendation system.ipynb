{
 "cells": [
  {
   "cell_type": "markdown",
   "id": "27c723d0",
   "metadata": {},
   "source": [
    "### Creating a recommendation system based on the content simalirity (Content Based)"
   ]
  },
  {
   "cell_type": "code",
   "execution_count": 1,
   "id": "61d7f2e2",
   "metadata": {},
   "outputs": [],
   "source": [
    "import numpy as np\n",
    "import pandas as pd\n",
    "from sklearn.feature_extraction.text import CountVectorizer, TfidfVectorizer\n",
    "from nltk.stem.porter import PorterStemmer\n",
    "from sklearn.metrics.pairwise import cosine_similarity\n",
    "import pickle\n",
    "import warnings\n",
    "warnings.filterwarnings(\"ignore\")"
   ]
  },
  {
   "cell_type": "code",
   "execution_count": 2,
   "id": "e337e774",
   "metadata": {},
   "outputs": [],
   "source": [
    "df=pd.read_csv(\"updated_webseries_dataset.csv\")"
   ]
  },
  {
   "cell_type": "code",
   "execution_count": 3,
   "id": "ca754666",
   "metadata": {},
   "outputs": [
    {
     "data": {
      "text/html": [
       "<div>\n",
       "<style scoped>\n",
       "    .dataframe tbody tr th:only-of-type {\n",
       "        vertical-align: middle;\n",
       "    }\n",
       "\n",
       "    .dataframe tbody tr th {\n",
       "        vertical-align: top;\n",
       "    }\n",
       "\n",
       "    .dataframe thead th {\n",
       "        text-align: right;\n",
       "    }\n",
       "</style>\n",
       "<table border=\"1\" class=\"dataframe\">\n",
       "  <thead>\n",
       "    <tr style=\"text-align: right;\">\n",
       "      <th></th>\n",
       "      <th>Series Title</th>\n",
       "      <th>Year Released</th>\n",
       "      <th>Content Rating</th>\n",
       "      <th>IMDB Rating</th>\n",
       "      <th>R Rating</th>\n",
       "      <th>Genre</th>\n",
       "      <th>Description</th>\n",
       "      <th>No of Seasons</th>\n",
       "      <th>Streaming Platform</th>\n",
       "      <th>Series Id</th>\n",
       "    </tr>\n",
       "  </thead>\n",
       "  <tbody>\n",
       "    <tr>\n",
       "      <th>0</th>\n",
       "      <td>Breaking Bad</td>\n",
       "      <td>2008</td>\n",
       "      <td>18+</td>\n",
       "      <td>9.5</td>\n",
       "      <td>100</td>\n",
       "      <td>Crime,Drama</td>\n",
       "      <td>When Walter White, a New Mexico chemistry teac...</td>\n",
       "      <td>5Seasons</td>\n",
       "      <td>Netflix</td>\n",
       "      <td>1396</td>\n",
       "    </tr>\n",
       "    <tr>\n",
       "      <th>1</th>\n",
       "      <td>Game of Thrones</td>\n",
       "      <td>2011</td>\n",
       "      <td>18+</td>\n",
       "      <td>9.3</td>\n",
       "      <td>99</td>\n",
       "      <td>Action &amp; Adventure,Drama</td>\n",
       "      <td>Seven noble families fight for control of the ...</td>\n",
       "      <td>8Seasons</td>\n",
       "      <td>HBO MAX,HBO</td>\n",
       "      <td>1399</td>\n",
       "    </tr>\n",
       "    <tr>\n",
       "      <th>2</th>\n",
       "      <td>Rick and Morty</td>\n",
       "      <td>2013</td>\n",
       "      <td>18+</td>\n",
       "      <td>9.2</td>\n",
       "      <td>97</td>\n",
       "      <td>Animation,Comedy</td>\n",
       "      <td>Rick is a mentally-unbalanced but scientifical...</td>\n",
       "      <td>4Seasons</td>\n",
       "      <td>Free Services,HBO MAX,Hulu</td>\n",
       "      <td>60625</td>\n",
       "    </tr>\n",
       "    <tr>\n",
       "      <th>3</th>\n",
       "      <td>Stranger Things</td>\n",
       "      <td>2016</td>\n",
       "      <td>16+</td>\n",
       "      <td>8.8</td>\n",
       "      <td>96</td>\n",
       "      <td>Drama,Fantasy</td>\n",
       "      <td>When a young boy vanishes, a small town uncove...</td>\n",
       "      <td>3Seasons</td>\n",
       "      <td>Netflix</td>\n",
       "      <td>66732</td>\n",
       "    </tr>\n",
       "    <tr>\n",
       "      <th>4</th>\n",
       "      <td>The Boys</td>\n",
       "      <td>2019</td>\n",
       "      <td>18+</td>\n",
       "      <td>8.7</td>\n",
       "      <td>95</td>\n",
       "      <td>Action &amp; Adventure,Comedy</td>\n",
       "      <td>A group of vigilantes known informally as “The...</td>\n",
       "      <td>2Seasons</td>\n",
       "      <td>Prime Video</td>\n",
       "      <td>76479</td>\n",
       "    </tr>\n",
       "  </tbody>\n",
       "</table>\n",
       "</div>"
      ],
      "text/plain": [
       "      Series Title  Year Released Content Rating  IMDB Rating  R Rating  \\\n",
       "0     Breaking Bad           2008            18+          9.5       100   \n",
       "1  Game of Thrones           2011            18+          9.3        99   \n",
       "2   Rick and Morty           2013            18+          9.2        97   \n",
       "3  Stranger Things           2016            16+          8.8        96   \n",
       "4         The Boys           2019            18+          8.7        95   \n",
       "\n",
       "                       Genre  \\\n",
       "0                Crime,Drama   \n",
       "1   Action & Adventure,Drama   \n",
       "2           Animation,Comedy   \n",
       "3              Drama,Fantasy   \n",
       "4  Action & Adventure,Comedy   \n",
       "\n",
       "                                         Description No of Seasons  \\\n",
       "0  When Walter White, a New Mexico chemistry teac...      5Seasons   \n",
       "1  Seven noble families fight for control of the ...      8Seasons   \n",
       "2  Rick is a mentally-unbalanced but scientifical...      4Seasons   \n",
       "3  When a young boy vanishes, a small town uncove...      3Seasons   \n",
       "4  A group of vigilantes known informally as “The...      2Seasons   \n",
       "\n",
       "           Streaming Platform  Series Id  \n",
       "0                     Netflix       1396  \n",
       "1                 HBO MAX,HBO       1399  \n",
       "2  Free Services,HBO MAX,Hulu      60625  \n",
       "3                     Netflix      66732  \n",
       "4                 Prime Video      76479  "
      ]
     },
     "execution_count": 3,
     "metadata": {},
     "output_type": "execute_result"
    }
   ],
   "source": [
    "df.head()"
   ]
  },
  {
   "cell_type": "code",
   "execution_count": 4,
   "id": "dfb0dcbc",
   "metadata": {},
   "outputs": [
    {
     "name": "stdout",
     "output_type": "stream",
     "text": [
      "<class 'pandas.core.frame.DataFrame'>\n",
      "RangeIndex: 11025 entries, 0 to 11024\n",
      "Data columns (total 10 columns):\n",
      " #   Column              Non-Null Count  Dtype  \n",
      "---  ------              --------------  -----  \n",
      " 0   Series Title        11025 non-null  object \n",
      " 1   Year Released       11025 non-null  int64  \n",
      " 2   Content Rating      7083 non-null   object \n",
      " 3   IMDB Rating         9801 non-null   float64\n",
      " 4   R Rating            11025 non-null  int64  \n",
      " 5   Genre               11025 non-null  object \n",
      " 6   Description         11025 non-null  object \n",
      " 7   No of Seasons       11025 non-null  object \n",
      " 8   Streaming Platform  9146 non-null   object \n",
      " 9   Series Id           11025 non-null  int64  \n",
      "dtypes: float64(1), int64(3), object(6)\n",
      "memory usage: 861.5+ KB\n"
     ]
    }
   ],
   "source": [
    "df.info()"
   ]
  },
  {
   "cell_type": "code",
   "execution_count": 5,
   "id": "c601b594",
   "metadata": {},
   "outputs": [],
   "source": [
    "# Columns we are going to use\n",
    "# Series Title R-Rating Genre Description Series_id"
   ]
  },
  {
   "cell_type": "code",
   "execution_count": 6,
   "id": "e8a40aa4",
   "metadata": {},
   "outputs": [
    {
     "data": {
      "text/plain": [
       "Index(['Series Title', 'Year Released', 'Content Rating', 'IMDB Rating',\n",
       "       'R Rating', 'Genre', 'Description', 'No of Seasons',\n",
       "       'Streaming Platform', 'Series Id'],\n",
       "      dtype='object')"
      ]
     },
     "execution_count": 6,
     "metadata": {},
     "output_type": "execute_result"
    }
   ],
   "source": [
    "df.columns"
   ]
  },
  {
   "cell_type": "code",
   "execution_count": 7,
   "id": "01f105db",
   "metadata": {},
   "outputs": [],
   "source": [
    "series=df[['Series Title','Series Id','R Rating', 'Genre', 'Description']]"
   ]
  },
  {
   "cell_type": "code",
   "execution_count": 8,
   "id": "18bbc47d",
   "metadata": {},
   "outputs": [],
   "source": [
    "series=series[series[\"Genre\"]!=\"-1\"]"
   ]
  },
  {
   "cell_type": "code",
   "execution_count": 9,
   "id": "5fc97f62",
   "metadata": {},
   "outputs": [
    {
     "data": {
      "text/html": [
       "<div>\n",
       "<style scoped>\n",
       "    .dataframe tbody tr th:only-of-type {\n",
       "        vertical-align: middle;\n",
       "    }\n",
       "\n",
       "    .dataframe tbody tr th {\n",
       "        vertical-align: top;\n",
       "    }\n",
       "\n",
       "    .dataframe thead th {\n",
       "        text-align: right;\n",
       "    }\n",
       "</style>\n",
       "<table border=\"1\" class=\"dataframe\">\n",
       "  <thead>\n",
       "    <tr style=\"text-align: right;\">\n",
       "      <th></th>\n",
       "      <th>Series Title</th>\n",
       "      <th>Series Id</th>\n",
       "      <th>R Rating</th>\n",
       "      <th>Genre</th>\n",
       "      <th>Description</th>\n",
       "    </tr>\n",
       "  </thead>\n",
       "  <tbody>\n",
       "    <tr>\n",
       "      <th>0</th>\n",
       "      <td>Breaking Bad</td>\n",
       "      <td>1396</td>\n",
       "      <td>100</td>\n",
       "      <td>Crime,Drama</td>\n",
       "      <td>When Walter White, a New Mexico chemistry teac...</td>\n",
       "    </tr>\n",
       "    <tr>\n",
       "      <th>1</th>\n",
       "      <td>Game of Thrones</td>\n",
       "      <td>1399</td>\n",
       "      <td>99</td>\n",
       "      <td>Action &amp; Adventure,Drama</td>\n",
       "      <td>Seven noble families fight for control of the ...</td>\n",
       "    </tr>\n",
       "    <tr>\n",
       "      <th>2</th>\n",
       "      <td>Rick and Morty</td>\n",
       "      <td>60625</td>\n",
       "      <td>97</td>\n",
       "      <td>Animation,Comedy</td>\n",
       "      <td>Rick is a mentally-unbalanced but scientifical...</td>\n",
       "    </tr>\n",
       "    <tr>\n",
       "      <th>3</th>\n",
       "      <td>Stranger Things</td>\n",
       "      <td>66732</td>\n",
       "      <td>96</td>\n",
       "      <td>Drama,Fantasy</td>\n",
       "      <td>When a young boy vanishes, a small town uncove...</td>\n",
       "    </tr>\n",
       "    <tr>\n",
       "      <th>4</th>\n",
       "      <td>The Boys</td>\n",
       "      <td>76479</td>\n",
       "      <td>95</td>\n",
       "      <td>Action &amp; Adventure,Comedy</td>\n",
       "      <td>A group of vigilantes known informally as “The...</td>\n",
       "    </tr>\n",
       "  </tbody>\n",
       "</table>\n",
       "</div>"
      ],
      "text/plain": [
       "      Series Title  Series Id  R Rating                      Genre  \\\n",
       "0     Breaking Bad       1396       100                Crime,Drama   \n",
       "1  Game of Thrones       1399        99   Action & Adventure,Drama   \n",
       "2   Rick and Morty      60625        97           Animation,Comedy   \n",
       "3  Stranger Things      66732        96              Drama,Fantasy   \n",
       "4         The Boys      76479        95  Action & Adventure,Comedy   \n",
       "\n",
       "                                         Description  \n",
       "0  When Walter White, a New Mexico chemistry teac...  \n",
       "1  Seven noble families fight for control of the ...  \n",
       "2  Rick is a mentally-unbalanced but scientifical...  \n",
       "3  When a young boy vanishes, a small town uncove...  \n",
       "4  A group of vigilantes known informally as “The...  "
      ]
     },
     "execution_count": 9,
     "metadata": {},
     "output_type": "execute_result"
    }
   ],
   "source": [
    "series.head()"
   ]
  },
  {
   "cell_type": "code",
   "execution_count": 10,
   "id": "576ccfdc",
   "metadata": {},
   "outputs": [],
   "source": [
    "# converting into a list"
   ]
  },
  {
   "cell_type": "code",
   "execution_count": 11,
   "id": "5dbb413a",
   "metadata": {},
   "outputs": [],
   "source": [
    "series[\"Genre\"]=series[\"Genre\"].apply(lambda i:i.split())"
   ]
  },
  {
   "cell_type": "code",
   "execution_count": 12,
   "id": "78406cf0",
   "metadata": {},
   "outputs": [],
   "source": [
    "series[\"Description\"]=series[\"Description\"].apply(lambda i:i.split())"
   ]
  },
  {
   "cell_type": "code",
   "execution_count": 13,
   "id": "166d7ef0",
   "metadata": {},
   "outputs": [
    {
     "data": {
      "text/html": [
       "<div>\n",
       "<style scoped>\n",
       "    .dataframe tbody tr th:only-of-type {\n",
       "        vertical-align: middle;\n",
       "    }\n",
       "\n",
       "    .dataframe tbody tr th {\n",
       "        vertical-align: top;\n",
       "    }\n",
       "\n",
       "    .dataframe thead th {\n",
       "        text-align: right;\n",
       "    }\n",
       "</style>\n",
       "<table border=\"1\" class=\"dataframe\">\n",
       "  <thead>\n",
       "    <tr style=\"text-align: right;\">\n",
       "      <th></th>\n",
       "      <th>Series Title</th>\n",
       "      <th>Series Id</th>\n",
       "      <th>R Rating</th>\n",
       "      <th>Genre</th>\n",
       "      <th>Description</th>\n",
       "    </tr>\n",
       "  </thead>\n",
       "  <tbody>\n",
       "    <tr>\n",
       "      <th>0</th>\n",
       "      <td>Breaking Bad</td>\n",
       "      <td>1396</td>\n",
       "      <td>100</td>\n",
       "      <td>[Crime,Drama]</td>\n",
       "      <td>[When, Walter, White,, a, New, Mexico, chemist...</td>\n",
       "    </tr>\n",
       "    <tr>\n",
       "      <th>1</th>\n",
       "      <td>Game of Thrones</td>\n",
       "      <td>1399</td>\n",
       "      <td>99</td>\n",
       "      <td>[Action, &amp;, Adventure,Drama]</td>\n",
       "      <td>[Seven, noble, families, fight, for, control, ...</td>\n",
       "    </tr>\n",
       "    <tr>\n",
       "      <th>2</th>\n",
       "      <td>Rick and Morty</td>\n",
       "      <td>60625</td>\n",
       "      <td>97</td>\n",
       "      <td>[Animation,Comedy]</td>\n",
       "      <td>[Rick, is, a, mentally-unbalanced, but, scient...</td>\n",
       "    </tr>\n",
       "    <tr>\n",
       "      <th>3</th>\n",
       "      <td>Stranger Things</td>\n",
       "      <td>66732</td>\n",
       "      <td>96</td>\n",
       "      <td>[Drama,Fantasy]</td>\n",
       "      <td>[When, a, young, boy, vanishes,, a, small, tow...</td>\n",
       "    </tr>\n",
       "    <tr>\n",
       "      <th>4</th>\n",
       "      <td>The Boys</td>\n",
       "      <td>76479</td>\n",
       "      <td>95</td>\n",
       "      <td>[Action, &amp;, Adventure,Comedy]</td>\n",
       "      <td>[A, group, of, vigilantes, known, informally, ...</td>\n",
       "    </tr>\n",
       "  </tbody>\n",
       "</table>\n",
       "</div>"
      ],
      "text/plain": [
       "      Series Title  Series Id  R Rating                          Genre  \\\n",
       "0     Breaking Bad       1396       100                  [Crime,Drama]   \n",
       "1  Game of Thrones       1399        99   [Action, &, Adventure,Drama]   \n",
       "2   Rick and Morty      60625        97             [Animation,Comedy]   \n",
       "3  Stranger Things      66732        96                [Drama,Fantasy]   \n",
       "4         The Boys      76479        95  [Action, &, Adventure,Comedy]   \n",
       "\n",
       "                                         Description  \n",
       "0  [When, Walter, White,, a, New, Mexico, chemist...  \n",
       "1  [Seven, noble, families, fight, for, control, ...  \n",
       "2  [Rick, is, a, mentally-unbalanced, but, scient...  \n",
       "3  [When, a, young, boy, vanishes,, a, small, tow...  \n",
       "4  [A, group, of, vigilantes, known, informally, ...  "
      ]
     },
     "execution_count": 13,
     "metadata": {},
     "output_type": "execute_result"
    }
   ],
   "source": [
    "series.head()"
   ]
  },
  {
   "cell_type": "code",
   "execution_count": 14,
   "id": "0a33707f",
   "metadata": {},
   "outputs": [],
   "source": [
    "# Removing spaces because eg:- Sam is a different entity and Sam Worthington is a different entity \n",
    "# we need a unique name there mightbe two sam so it will create confusion"
   ]
  },
  {
   "cell_type": "code",
   "execution_count": 15,
   "id": "b5fdb1e0",
   "metadata": {},
   "outputs": [],
   "source": [
    "def remove_space(obj):\n",
    "    return [i.replace(\" \",\"\") for i in obj]"
   ]
  },
  {
   "cell_type": "code",
   "execution_count": 16,
   "id": "1d1746cb",
   "metadata": {},
   "outputs": [],
   "source": [
    "series[\"Genre\"]=series[\"Genre\"].apply(remove_space)"
   ]
  },
  {
   "cell_type": "code",
   "execution_count": 17,
   "id": "01748b85",
   "metadata": {},
   "outputs": [],
   "source": [
    "series[\"Description\"]=series[\"Description\"].apply(remove_space)"
   ]
  },
  {
   "cell_type": "code",
   "execution_count": 18,
   "id": "6e448dd3",
   "metadata": {},
   "outputs": [
    {
     "data": {
      "text/html": [
       "<div>\n",
       "<style scoped>\n",
       "    .dataframe tbody tr th:only-of-type {\n",
       "        vertical-align: middle;\n",
       "    }\n",
       "\n",
       "    .dataframe tbody tr th {\n",
       "        vertical-align: top;\n",
       "    }\n",
       "\n",
       "    .dataframe thead th {\n",
       "        text-align: right;\n",
       "    }\n",
       "</style>\n",
       "<table border=\"1\" class=\"dataframe\">\n",
       "  <thead>\n",
       "    <tr style=\"text-align: right;\">\n",
       "      <th></th>\n",
       "      <th>Series Title</th>\n",
       "      <th>Series Id</th>\n",
       "      <th>R Rating</th>\n",
       "      <th>Genre</th>\n",
       "      <th>Description</th>\n",
       "    </tr>\n",
       "  </thead>\n",
       "  <tbody>\n",
       "    <tr>\n",
       "      <th>0</th>\n",
       "      <td>Breaking Bad</td>\n",
       "      <td>1396</td>\n",
       "      <td>100</td>\n",
       "      <td>[Crime,Drama]</td>\n",
       "      <td>[When, Walter, White,, a, New, Mexico, chemist...</td>\n",
       "    </tr>\n",
       "    <tr>\n",
       "      <th>1</th>\n",
       "      <td>Game of Thrones</td>\n",
       "      <td>1399</td>\n",
       "      <td>99</td>\n",
       "      <td>[Action, &amp;, Adventure,Drama]</td>\n",
       "      <td>[Seven, noble, families, fight, for, control, ...</td>\n",
       "    </tr>\n",
       "    <tr>\n",
       "      <th>2</th>\n",
       "      <td>Rick and Morty</td>\n",
       "      <td>60625</td>\n",
       "      <td>97</td>\n",
       "      <td>[Animation,Comedy]</td>\n",
       "      <td>[Rick, is, a, mentally-unbalanced, but, scient...</td>\n",
       "    </tr>\n",
       "    <tr>\n",
       "      <th>3</th>\n",
       "      <td>Stranger Things</td>\n",
       "      <td>66732</td>\n",
       "      <td>96</td>\n",
       "      <td>[Drama,Fantasy]</td>\n",
       "      <td>[When, a, young, boy, vanishes,, a, small, tow...</td>\n",
       "    </tr>\n",
       "    <tr>\n",
       "      <th>4</th>\n",
       "      <td>The Boys</td>\n",
       "      <td>76479</td>\n",
       "      <td>95</td>\n",
       "      <td>[Action, &amp;, Adventure,Comedy]</td>\n",
       "      <td>[A, group, of, vigilantes, known, informally, ...</td>\n",
       "    </tr>\n",
       "  </tbody>\n",
       "</table>\n",
       "</div>"
      ],
      "text/plain": [
       "      Series Title  Series Id  R Rating                          Genre  \\\n",
       "0     Breaking Bad       1396       100                  [Crime,Drama]   \n",
       "1  Game of Thrones       1399        99   [Action, &, Adventure,Drama]   \n",
       "2   Rick and Morty      60625        97             [Animation,Comedy]   \n",
       "3  Stranger Things      66732        96                [Drama,Fantasy]   \n",
       "4         The Boys      76479        95  [Action, &, Adventure,Comedy]   \n",
       "\n",
       "                                         Description  \n",
       "0  [When, Walter, White,, a, New, Mexico, chemist...  \n",
       "1  [Seven, noble, families, fight, for, control, ...  \n",
       "2  [Rick, is, a, mentally-unbalanced, but, scient...  \n",
       "3  [When, a, young, boy, vanishes,, a, small, tow...  \n",
       "4  [A, group, of, vigilantes, known, informally, ...  "
      ]
     },
     "execution_count": 18,
     "metadata": {},
     "output_type": "execute_result"
    }
   ],
   "source": [
    "series.head()"
   ]
  },
  {
   "cell_type": "code",
   "execution_count": 19,
   "id": "f0bcab9d",
   "metadata": {},
   "outputs": [],
   "source": [
    "series[\"tags\"]=series.Genre + series.Description"
   ]
  },
  {
   "cell_type": "code",
   "execution_count": 20,
   "id": "26053ddb",
   "metadata": {},
   "outputs": [
    {
     "data": {
      "text/html": [
       "<div>\n",
       "<style scoped>\n",
       "    .dataframe tbody tr th:only-of-type {\n",
       "        vertical-align: middle;\n",
       "    }\n",
       "\n",
       "    .dataframe tbody tr th {\n",
       "        vertical-align: top;\n",
       "    }\n",
       "\n",
       "    .dataframe thead th {\n",
       "        text-align: right;\n",
       "    }\n",
       "</style>\n",
       "<table border=\"1\" class=\"dataframe\">\n",
       "  <thead>\n",
       "    <tr style=\"text-align: right;\">\n",
       "      <th></th>\n",
       "      <th>Series Title</th>\n",
       "      <th>Series Id</th>\n",
       "      <th>R Rating</th>\n",
       "      <th>Genre</th>\n",
       "      <th>Description</th>\n",
       "      <th>tags</th>\n",
       "    </tr>\n",
       "  </thead>\n",
       "  <tbody>\n",
       "    <tr>\n",
       "      <th>0</th>\n",
       "      <td>Breaking Bad</td>\n",
       "      <td>1396</td>\n",
       "      <td>100</td>\n",
       "      <td>[Crime,Drama]</td>\n",
       "      <td>[When, Walter, White,, a, New, Mexico, chemist...</td>\n",
       "      <td>[Crime,Drama, When, Walter, White,, a, New, Me...</td>\n",
       "    </tr>\n",
       "    <tr>\n",
       "      <th>1</th>\n",
       "      <td>Game of Thrones</td>\n",
       "      <td>1399</td>\n",
       "      <td>99</td>\n",
       "      <td>[Action, &amp;, Adventure,Drama]</td>\n",
       "      <td>[Seven, noble, families, fight, for, control, ...</td>\n",
       "      <td>[Action, &amp;, Adventure,Drama, Seven, noble, fam...</td>\n",
       "    </tr>\n",
       "    <tr>\n",
       "      <th>2</th>\n",
       "      <td>Rick and Morty</td>\n",
       "      <td>60625</td>\n",
       "      <td>97</td>\n",
       "      <td>[Animation,Comedy]</td>\n",
       "      <td>[Rick, is, a, mentally-unbalanced, but, scient...</td>\n",
       "      <td>[Animation,Comedy, Rick, is, a, mentally-unbal...</td>\n",
       "    </tr>\n",
       "    <tr>\n",
       "      <th>3</th>\n",
       "      <td>Stranger Things</td>\n",
       "      <td>66732</td>\n",
       "      <td>96</td>\n",
       "      <td>[Drama,Fantasy]</td>\n",
       "      <td>[When, a, young, boy, vanishes,, a, small, tow...</td>\n",
       "      <td>[Drama,Fantasy, When, a, young, boy, vanishes,...</td>\n",
       "    </tr>\n",
       "    <tr>\n",
       "      <th>4</th>\n",
       "      <td>The Boys</td>\n",
       "      <td>76479</td>\n",
       "      <td>95</td>\n",
       "      <td>[Action, &amp;, Adventure,Comedy]</td>\n",
       "      <td>[A, group, of, vigilantes, known, informally, ...</td>\n",
       "      <td>[Action, &amp;, Adventure,Comedy, A, group, of, vi...</td>\n",
       "    </tr>\n",
       "  </tbody>\n",
       "</table>\n",
       "</div>"
      ],
      "text/plain": [
       "      Series Title  Series Id  R Rating                          Genre  \\\n",
       "0     Breaking Bad       1396       100                  [Crime,Drama]   \n",
       "1  Game of Thrones       1399        99   [Action, &, Adventure,Drama]   \n",
       "2   Rick and Morty      60625        97             [Animation,Comedy]   \n",
       "3  Stranger Things      66732        96                [Drama,Fantasy]   \n",
       "4         The Boys      76479        95  [Action, &, Adventure,Comedy]   \n",
       "\n",
       "                                         Description  \\\n",
       "0  [When, Walter, White,, a, New, Mexico, chemist...   \n",
       "1  [Seven, noble, families, fight, for, control, ...   \n",
       "2  [Rick, is, a, mentally-unbalanced, but, scient...   \n",
       "3  [When, a, young, boy, vanishes,, a, small, tow...   \n",
       "4  [A, group, of, vigilantes, known, informally, ...   \n",
       "\n",
       "                                                tags  \n",
       "0  [Crime,Drama, When, Walter, White,, a, New, Me...  \n",
       "1  [Action, &, Adventure,Drama, Seven, noble, fam...  \n",
       "2  [Animation,Comedy, Rick, is, a, mentally-unbal...  \n",
       "3  [Drama,Fantasy, When, a, young, boy, vanishes,...  \n",
       "4  [Action, &, Adventure,Comedy, A, group, of, vi...  "
      ]
     },
     "execution_count": 20,
     "metadata": {},
     "output_type": "execute_result"
    }
   ],
   "source": [
    "series.head()"
   ]
  },
  {
   "cell_type": "code",
   "execution_count": 21,
   "id": "0bdd45f8",
   "metadata": {},
   "outputs": [],
   "source": [
    "df1=series[[\"Series Title\",\"Series Id\",\"tags\"]]"
   ]
  },
  {
   "cell_type": "code",
   "execution_count": 22,
   "id": "2a16e004",
   "metadata": {},
   "outputs": [],
   "source": [
    "df1.columns=[\"Series_Title\",\"Series_Id\",\"Tags\"]"
   ]
  },
  {
   "cell_type": "code",
   "execution_count": 23,
   "id": "03ddb380",
   "metadata": {},
   "outputs": [],
   "source": [
    "df1[\"Tags\"]=df1[\"Tags\"].apply(lambda i:\" \".join(i))"
   ]
  },
  {
   "cell_type": "code",
   "execution_count": 24,
   "id": "566dcabb",
   "metadata": {},
   "outputs": [
    {
     "data": {
      "text/html": [
       "<div>\n",
       "<style scoped>\n",
       "    .dataframe tbody tr th:only-of-type {\n",
       "        vertical-align: middle;\n",
       "    }\n",
       "\n",
       "    .dataframe tbody tr th {\n",
       "        vertical-align: top;\n",
       "    }\n",
       "\n",
       "    .dataframe thead th {\n",
       "        text-align: right;\n",
       "    }\n",
       "</style>\n",
       "<table border=\"1\" class=\"dataframe\">\n",
       "  <thead>\n",
       "    <tr style=\"text-align: right;\">\n",
       "      <th></th>\n",
       "      <th>Series_Title</th>\n",
       "      <th>Series_Id</th>\n",
       "      <th>Tags</th>\n",
       "    </tr>\n",
       "  </thead>\n",
       "  <tbody>\n",
       "    <tr>\n",
       "      <th>0</th>\n",
       "      <td>Breaking Bad</td>\n",
       "      <td>1396</td>\n",
       "      <td>Crime,Drama When Walter White, a New Mexico ch...</td>\n",
       "    </tr>\n",
       "    <tr>\n",
       "      <th>1</th>\n",
       "      <td>Game of Thrones</td>\n",
       "      <td>1399</td>\n",
       "      <td>Action &amp; Adventure,Drama Seven noble families ...</td>\n",
       "    </tr>\n",
       "    <tr>\n",
       "      <th>2</th>\n",
       "      <td>Rick and Morty</td>\n",
       "      <td>60625</td>\n",
       "      <td>Animation,Comedy Rick is a mentally-unbalanced...</td>\n",
       "    </tr>\n",
       "    <tr>\n",
       "      <th>3</th>\n",
       "      <td>Stranger Things</td>\n",
       "      <td>66732</td>\n",
       "      <td>Drama,Fantasy When a young boy vanishes, a sma...</td>\n",
       "    </tr>\n",
       "    <tr>\n",
       "      <th>4</th>\n",
       "      <td>The Boys</td>\n",
       "      <td>76479</td>\n",
       "      <td>Action &amp; Adventure,Comedy A group of vigilante...</td>\n",
       "    </tr>\n",
       "  </tbody>\n",
       "</table>\n",
       "</div>"
      ],
      "text/plain": [
       "      Series_Title  Series_Id  \\\n",
       "0     Breaking Bad       1396   \n",
       "1  Game of Thrones       1399   \n",
       "2   Rick and Morty      60625   \n",
       "3  Stranger Things      66732   \n",
       "4         The Boys      76479   \n",
       "\n",
       "                                                Tags  \n",
       "0  Crime,Drama When Walter White, a New Mexico ch...  \n",
       "1  Action & Adventure,Drama Seven noble families ...  \n",
       "2  Animation,Comedy Rick is a mentally-unbalanced...  \n",
       "3  Drama,Fantasy When a young boy vanishes, a sma...  \n",
       "4  Action & Adventure,Comedy A group of vigilante...  "
      ]
     },
     "execution_count": 24,
     "metadata": {},
     "output_type": "execute_result"
    }
   ],
   "source": [
    "df1.head()"
   ]
  },
  {
   "cell_type": "code",
   "execution_count": 25,
   "id": "f4bf995b",
   "metadata": {},
   "outputs": [],
   "source": [
    "# Converting everything into lowercase"
   ]
  },
  {
   "cell_type": "code",
   "execution_count": 27,
   "id": "9d352266",
   "metadata": {},
   "outputs": [],
   "source": [
    "df1[\"Tags\"]=df1[\"Tags\"].apply(lambda i:i.lower())"
   ]
  },
  {
   "cell_type": "code",
   "execution_count": 28,
   "id": "e5baeb22",
   "metadata": {},
   "outputs": [],
   "source": [
    "df1=df1[df1[\"Series_Title\"].duplicated()==False]"
   ]
  },
  {
   "cell_type": "code",
   "execution_count": 29,
   "id": "8cb90935",
   "metadata": {},
   "outputs": [
    {
     "data": {
      "text/plain": [
       "0"
      ]
     },
     "execution_count": 29,
     "metadata": {},
     "output_type": "execute_result"
    }
   ],
   "source": [
    "df1[\"Series_Title\"].duplicated().sum()"
   ]
  },
  {
   "cell_type": "code",
   "execution_count": 30,
   "id": "49b8c5f8",
   "metadata": {},
   "outputs": [],
   "source": [
    "\n",
    "def stemmer(text):\n",
    "    poter_stem=PorterStemmer()\n",
    "    y = []\n",
    "    for i in text.split():\n",
    "        y.append(poter_stem.stem(i))\n",
    "    return \" \".join(y)"
   ]
  },
  {
   "cell_type": "code",
   "execution_count": 32,
   "id": "3ec0c028",
   "metadata": {},
   "outputs": [],
   "source": [
    "df1[\"Tags\"]=df1.Tags.apply(stemmer)"
   ]
  },
  {
   "cell_type": "code",
   "execution_count": 33,
   "id": "814613b5",
   "metadata": {},
   "outputs": [],
   "source": [
    "# We are creating names vector and we will give recommendations base on the closest vector(Distance based i.e Cosine dsiatance)\n",
    "# OR TFIDF method"
   ]
  },
  {
   "cell_type": "code",
   "execution_count": 34,
   "id": "b8159c46",
   "metadata": {},
   "outputs": [],
   "source": [
    "count_vector=CountVectorizer(max_features=5000,stop_words=\"english\")"
   ]
  },
  {
   "cell_type": "code",
   "execution_count": 35,
   "id": "396beec8",
   "metadata": {},
   "outputs": [],
   "source": [
    "vector=count_vector.fit_transform(df1[\"Tags\"]).toarray()"
   ]
  },
  {
   "cell_type": "code",
   "execution_count": 36,
   "id": "3e8cf6f3",
   "metadata": {},
   "outputs": [
    {
     "data": {
      "text/plain": [
       "array([0, 0, 0, ..., 0, 0, 0], dtype=int64)"
      ]
     },
     "execution_count": 36,
     "metadata": {},
     "output_type": "execute_result"
    }
   ],
   "source": [
    "vector[0]"
   ]
  },
  {
   "cell_type": "code",
   "execution_count": 37,
   "id": "2f8e1665",
   "metadata": {},
   "outputs": [
    {
     "data": {
      "text/plain": [
       "5000"
      ]
     },
     "execution_count": 37,
     "metadata": {},
     "output_type": "execute_result"
    }
   ],
   "source": [
    "len(count_vector.get_feature_names())"
   ]
  },
  {
   "cell_type": "code",
   "execution_count": 38,
   "id": "db89982f",
   "metadata": {},
   "outputs": [],
   "source": [
    "# Using cosine similarity"
   ]
  },
  {
   "cell_type": "code",
   "execution_count": 39,
   "id": "795f22ff",
   "metadata": {},
   "outputs": [],
   "source": [
    "similarity=cosine_similarity(vector)"
   ]
  },
  {
   "cell_type": "code",
   "execution_count": 40,
   "id": "1f80dd18",
   "metadata": {},
   "outputs": [
    {
     "data": {
      "text/plain": [
       "(10544, 10544)"
      ]
     },
     "execution_count": 40,
     "metadata": {},
     "output_type": "execute_result"
    }
   ],
   "source": [
    "similarity.shape"
   ]
  },
  {
   "cell_type": "code",
   "execution_count": 41,
   "id": "2b392981",
   "metadata": {},
   "outputs": [
    {
     "data": {
      "text/plain": [
       "array([1.        , 0.51923775, 0.39269816, ..., 0.33739293, 0.1474242 ,\n",
       "       0.30276504])"
      ]
     },
     "execution_count": 41,
     "metadata": {},
     "output_type": "execute_result"
    }
   ],
   "source": [
    "similarity[0]"
   ]
  },
  {
   "cell_type": "code",
   "execution_count": 42,
   "id": "40de2df9",
   "metadata": {},
   "outputs": [
    {
     "data": {
      "text/plain": [
       "(10544, 3)"
      ]
     },
     "execution_count": 42,
     "metadata": {},
     "output_type": "execute_result"
    }
   ],
   "source": [
    "df1.shape"
   ]
  },
  {
   "cell_type": "code",
   "execution_count": 119,
   "id": "6dbebb23",
   "metadata": {},
   "outputs": [],
   "source": [
    "# Creating a function which will give 5 series based on similarity"
   ]
  },
  {
   "cell_type": "code",
   "execution_count": 43,
   "id": "412dbc85",
   "metadata": {},
   "outputs": [],
   "source": [
    "def recommend(series_name):\n",
    "    try:\n",
    "        series_index = df1[df1[\"Series_Title\"] == series_name].index[0]\n",
    "        distances = similarity[series_index]\n",
    "        series_list=sorted(list(enumerate(distances)),reverse=True, key=lambda i:i[1])[1:6]\n",
    "        for i in series_list:\n",
    "            print(df1.iloc[i[0]].Series_Title)\n",
    "    except Exception as e:\n",
    "        print(\"Check Series name again, Series not found!!!\")"
   ]
  },
  {
   "cell_type": "code",
   "execution_count": 44,
   "id": "1bd29f2a",
   "metadata": {},
   "outputs": [
    {
     "data": {
      "text/plain": [
       "[(116, 0.6936071720296073),\n",
       " (685, 0.6696652510408083),\n",
       " (2379, 0.6542654209926725),\n",
       " (243, 0.6528124384711252),\n",
       " (137, 0.6502621848846118)]"
      ]
     },
     "execution_count": 44,
     "metadata": {},
     "output_type": "execute_result"
    }
   ],
   "source": [
    "sorted(list(enumerate(similarity[0])),reverse=True, key=lambda i:i[1])[1:6]"
   ]
  },
  {
   "cell_type": "code",
   "execution_count": 45,
   "id": "2a696e7c",
   "metadata": {},
   "outputs": [
    {
     "name": "stdout",
     "output_type": "stream",
     "text": [
      "Broadchurch\n",
      "American Crime\n",
      "Maigret\n",
      "Power\n",
      "The Shield\n"
     ]
    }
   ],
   "source": [
    "recommend(\"Breaking Bad\")"
   ]
  },
  {
   "cell_type": "code",
   "execution_count": 46,
   "id": "05cf9cc7",
   "metadata": {},
   "outputs": [
    {
     "data": {
      "text/html": [
       "<div>\n",
       "<style scoped>\n",
       "    .dataframe tbody tr th:only-of-type {\n",
       "        vertical-align: middle;\n",
       "    }\n",
       "\n",
       "    .dataframe tbody tr th {\n",
       "        vertical-align: top;\n",
       "    }\n",
       "\n",
       "    .dataframe thead th {\n",
       "        text-align: right;\n",
       "    }\n",
       "</style>\n",
       "<table border=\"1\" class=\"dataframe\">\n",
       "  <thead>\n",
       "    <tr style=\"text-align: right;\">\n",
       "      <th></th>\n",
       "      <th>Series_Title</th>\n",
       "      <th>Series_Id</th>\n",
       "      <th>Tags</th>\n",
       "    </tr>\n",
       "  </thead>\n",
       "  <tbody>\n",
       "    <tr>\n",
       "      <th>2510</th>\n",
       "      <td>Maigret</td>\n",
       "      <td>752564</td>\n",
       "      <td>crime,drama adapt of the novel written by geor...</td>\n",
       "    </tr>\n",
       "  </tbody>\n",
       "</table>\n",
       "</div>"
      ],
      "text/plain": [
       "     Series_Title  Series_Id  \\\n",
       "2510      Maigret     752564   \n",
       "\n",
       "                                                   Tags  \n",
       "2510  crime,drama adapt of the novel written by geor...  "
      ]
     },
     "execution_count": 46,
     "metadata": {},
     "output_type": "execute_result"
    }
   ],
   "source": [
    "df1[df1[\"Series_Title\"]==\"Maigret\"]"
   ]
  },
  {
   "cell_type": "code",
   "execution_count": 47,
   "id": "22ccb77c",
   "metadata": {},
   "outputs": [],
   "source": [
    "pickle.dump(df1.to_dict(),open(\"series_dict.pkl\",\"wb\"))"
   ]
  },
  {
   "cell_type": "code",
   "execution_count": 48,
   "id": "8a010222",
   "metadata": {},
   "outputs": [],
   "source": [
    "pickle.dump(similarity,open(\"similarity.pkl\",\"wb\"))"
   ]
  },
  {
   "cell_type": "code",
   "execution_count": null,
   "id": "8e86d355",
   "metadata": {},
   "outputs": [],
   "source": []
  },
  {
   "cell_type": "code",
   "execution_count": null,
   "id": "88f91cb0",
   "metadata": {},
   "outputs": [],
   "source": []
  }
 ],
 "metadata": {
  "kernelspec": {
   "display_name": "Python 3 (ipykernel)",
   "language": "python",
   "name": "python3"
  },
  "language_info": {
   "codemirror_mode": {
    "name": "ipython",
    "version": 3
   },
   "file_extension": ".py",
   "mimetype": "text/x-python",
   "name": "python",
   "nbconvert_exporter": "python",
   "pygments_lexer": "ipython3",
   "version": "3.9.12"
  }
 },
 "nbformat": 4,
 "nbformat_minor": 5
}
