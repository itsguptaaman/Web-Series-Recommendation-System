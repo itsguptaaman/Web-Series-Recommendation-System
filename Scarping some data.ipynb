{
 "cells": [
  {
   "cell_type": "code",
   "execution_count": null,
   "id": "968f606a",
   "metadata": {},
   "outputs": [],
   "source": []
  },
  {
   "cell_type": "code",
   "execution_count": 1,
   "id": "a83d1050",
   "metadata": {},
   "outputs": [],
   "source": [
    "import numpy as np\n",
    "import pandas as pd\n",
    "from bs4 import BeautifulSoup\n",
    "import requests\n",
    "from bs4 import BeautifulSoup as bs\n",
    "from urllib.request import urlopen as uReq\n",
    "import warnings\n",
    "warnings.filterwarnings(\"ignore\")"
   ]
  },
  {
   "cell_type": "code",
   "execution_count": null,
   "id": "9f7eebf2",
   "metadata": {},
   "outputs": [],
   "source": []
  },
  {
   "cell_type": "code",
   "execution_count": 2,
   "id": "1b281f9c",
   "metadata": {},
   "outputs": [],
   "source": [
    "df=pd.read_excel(\"Web_Series.xlsx\")\n",
    "# df.to_csv(\"Web_series.csv\",index=False)"
   ]
  },
  {
   "cell_type": "code",
   "execution_count": 30,
   "id": "2c3a3c08",
   "metadata": {},
   "outputs": [
    {
     "data": {
      "text/plain": [
       "(12353, 9)"
      ]
     },
     "execution_count": 30,
     "metadata": {},
     "output_type": "execute_result"
    }
   ],
   "source": [
    "df.shape"
   ]
  },
  {
   "cell_type": "code",
   "execution_count": 3,
   "id": "1f1d0918",
   "metadata": {},
   "outputs": [],
   "source": [
    "df_copy=df.copy()"
   ]
  },
  {
   "cell_type": "code",
   "execution_count": 14,
   "id": "f636723d",
   "metadata": {},
   "outputs": [],
   "source": [
    "# for i in range(len(df)):\n",
    "#     Titles=list(df[\"Series Title\"])"
   ]
  },
  {
   "cell_type": "code",
   "execution_count": 15,
   "id": "41e2234d",
   "metadata": {},
   "outputs": [],
   "source": [
    "# Titles[0]"
   ]
  },
  {
   "cell_type": "code",
   "execution_count": null,
   "id": "65012edb",
   "metadata": {},
   "outputs": [],
   "source": []
  },
  {
   "cell_type": "code",
   "execution_count": 16,
   "id": "6a31953e",
   "metadata": {},
   "outputs": [],
   "source": [
    "# id=[]\n",
    "# series_name=[]\n",
    "# for i in range(len(Titles)):\n",
    "#     try:\n",
    "#         url=\"https://www.themoviedb.org/search?query=\"\n",
    "#         url=url+Titles[i]\n",
    "#         url = url.replace(\" \", \"%20\")\n",
    "#         uClient = uReq(url)\n",
    "#         tmdb = uClient.read()\n",
    "#         uClient.close()\n",
    "#         tmdb_html = bs(tmdb, \"html.parser\")\n",
    "#         bigboxes = tmdb_html.findAll(\"div\", {\"class\": \"poster\"})\n",
    "#         s=bigboxes[0].a[\"href\"]\n",
    "#         result=s.split(\"/\")\n",
    "#         id.append(result[2])\n",
    "#         series_name.append(Titles[i])\n",
    "    \n",
    "#     except Exception as e:\n",
    "#         print(i)"
   ]
  },
  {
   "cell_type": "code",
   "execution_count": 11,
   "id": "f7d9b520",
   "metadata": {},
   "outputs": [],
   "source": [
    "df2=pd.read_csv(\"Series_id.csv\",index_col=0)"
   ]
  },
  {
   "cell_type": "code",
   "execution_count": 12,
   "id": "b4fdb9a0",
   "metadata": {},
   "outputs": [
    {
     "data": {
      "text/html": [
       "<div>\n",
       "<style scoped>\n",
       "    .dataframe tbody tr th:only-of-type {\n",
       "        vertical-align: middle;\n",
       "    }\n",
       "\n",
       "    .dataframe tbody tr th {\n",
       "        vertical-align: top;\n",
       "    }\n",
       "\n",
       "    .dataframe thead th {\n",
       "        text-align: right;\n",
       "    }\n",
       "</style>\n",
       "<table border=\"1\" class=\"dataframe\">\n",
       "  <thead>\n",
       "    <tr style=\"text-align: right;\">\n",
       "      <th></th>\n",
       "      <th>Series Title</th>\n",
       "      <th>Year Released</th>\n",
       "      <th>Content Rating</th>\n",
       "      <th>IMDB Rating</th>\n",
       "      <th>R Rating</th>\n",
       "      <th>Genre</th>\n",
       "      <th>Description</th>\n",
       "      <th>No of Seasons</th>\n",
       "      <th>Streaming Platform</th>\n",
       "    </tr>\n",
       "  </thead>\n",
       "  <tbody>\n",
       "    <tr>\n",
       "      <th>0</th>\n",
       "      <td>Breaking Bad</td>\n",
       "      <td>2008</td>\n",
       "      <td>18+</td>\n",
       "      <td>9.5</td>\n",
       "      <td>100</td>\n",
       "      <td>Crime,Drama</td>\n",
       "      <td>When Walter White, a New Mexico chemistry teac...</td>\n",
       "      <td>5Seasons</td>\n",
       "      <td>Netflix</td>\n",
       "    </tr>\n",
       "    <tr>\n",
       "      <th>1</th>\n",
       "      <td>Game of Thrones</td>\n",
       "      <td>2011</td>\n",
       "      <td>18+</td>\n",
       "      <td>9.3</td>\n",
       "      <td>99</td>\n",
       "      <td>Action &amp; Adventure,Drama</td>\n",
       "      <td>Seven noble families fight for control of the ...</td>\n",
       "      <td>8Seasons</td>\n",
       "      <td>HBO MAX,HBO</td>\n",
       "    </tr>\n",
       "    <tr>\n",
       "      <th>2</th>\n",
       "      <td>Rick and Morty</td>\n",
       "      <td>2013</td>\n",
       "      <td>18+</td>\n",
       "      <td>9.2</td>\n",
       "      <td>97</td>\n",
       "      <td>Animation,Comedy</td>\n",
       "      <td>Rick is a mentally-unbalanced but scientifical...</td>\n",
       "      <td>4Seasons</td>\n",
       "      <td>Free Services,HBO MAX,Hulu</td>\n",
       "    </tr>\n",
       "    <tr>\n",
       "      <th>3</th>\n",
       "      <td>Stranger Things</td>\n",
       "      <td>2016</td>\n",
       "      <td>16+</td>\n",
       "      <td>8.8</td>\n",
       "      <td>96</td>\n",
       "      <td>Drama,Fantasy</td>\n",
       "      <td>When a young boy vanishes, a small town uncove...</td>\n",
       "      <td>3Seasons</td>\n",
       "      <td>Netflix</td>\n",
       "    </tr>\n",
       "    <tr>\n",
       "      <th>4</th>\n",
       "      <td>The Boys</td>\n",
       "      <td>2019</td>\n",
       "      <td>18+</td>\n",
       "      <td>8.7</td>\n",
       "      <td>95</td>\n",
       "      <td>Action &amp; Adventure,Comedy</td>\n",
       "      <td>A group of vigilantes known informally as “The...</td>\n",
       "      <td>2Seasons</td>\n",
       "      <td>Prime Video</td>\n",
       "    </tr>\n",
       "  </tbody>\n",
       "</table>\n",
       "</div>"
      ],
      "text/plain": [
       "      Series Title  Year Released Content Rating  IMDB Rating  R Rating  \\\n",
       "0     Breaking Bad           2008            18+          9.5       100   \n",
       "1  Game of Thrones           2011            18+          9.3        99   \n",
       "2   Rick and Morty           2013            18+          9.2        97   \n",
       "3  Stranger Things           2016            16+          8.8        96   \n",
       "4         The Boys           2019            18+          8.7        95   \n",
       "\n",
       "                       Genre  \\\n",
       "0                Crime,Drama   \n",
       "1   Action & Adventure,Drama   \n",
       "2           Animation,Comedy   \n",
       "3              Drama,Fantasy   \n",
       "4  Action & Adventure,Comedy   \n",
       "\n",
       "                                         Description No of Seasons  \\\n",
       "0  When Walter White, a New Mexico chemistry teac...      5Seasons   \n",
       "1  Seven noble families fight for control of the ...      8Seasons   \n",
       "2  Rick is a mentally-unbalanced but scientifical...      4Seasons   \n",
       "3  When a young boy vanishes, a small town uncove...      3Seasons   \n",
       "4  A group of vigilantes known informally as “The...      2Seasons   \n",
       "\n",
       "           Streaming Platform  \n",
       "0                     Netflix  \n",
       "1                 HBO MAX,HBO  \n",
       "2  Free Services,HBO MAX,Hulu  \n",
       "3                     Netflix  \n",
       "4                 Prime Video  "
      ]
     },
     "execution_count": 12,
     "metadata": {},
     "output_type": "execute_result"
    }
   ],
   "source": [
    "df.head()"
   ]
  },
  {
   "cell_type": "code",
   "execution_count": 19,
   "id": "34cd41c0",
   "metadata": {},
   "outputs": [],
   "source": [
    "df2.columns=[\"Series Title\",\"Series Id\"]"
   ]
  },
  {
   "cell_type": "code",
   "execution_count": 20,
   "id": "fa72e34f",
   "metadata": {
    "scrolled": true
   },
   "outputs": [
    {
     "data": {
      "text/html": [
       "<div>\n",
       "<style scoped>\n",
       "    .dataframe tbody tr th:only-of-type {\n",
       "        vertical-align: middle;\n",
       "    }\n",
       "\n",
       "    .dataframe tbody tr th {\n",
       "        vertical-align: top;\n",
       "    }\n",
       "\n",
       "    .dataframe thead th {\n",
       "        text-align: right;\n",
       "    }\n",
       "</style>\n",
       "<table border=\"1\" class=\"dataframe\">\n",
       "  <thead>\n",
       "    <tr style=\"text-align: right;\">\n",
       "      <th></th>\n",
       "      <th>Series Title</th>\n",
       "      <th>Series Id</th>\n",
       "    </tr>\n",
       "  </thead>\n",
       "  <tbody>\n",
       "    <tr>\n",
       "      <th>0</th>\n",
       "      <td>Breaking Bad</td>\n",
       "      <td>1396</td>\n",
       "    </tr>\n",
       "    <tr>\n",
       "      <th>1</th>\n",
       "      <td>Game of Thrones</td>\n",
       "      <td>1399</td>\n",
       "    </tr>\n",
       "    <tr>\n",
       "      <th>2</th>\n",
       "      <td>Rick and Morty</td>\n",
       "      <td>60625</td>\n",
       "    </tr>\n",
       "    <tr>\n",
       "      <th>3</th>\n",
       "      <td>Stranger Things</td>\n",
       "      <td>66732</td>\n",
       "    </tr>\n",
       "    <tr>\n",
       "      <th>4</th>\n",
       "      <td>The Boys</td>\n",
       "      <td>76479</td>\n",
       "    </tr>\n",
       "  </tbody>\n",
       "</table>\n",
       "</div>"
      ],
      "text/plain": [
       "      Series Title  Series Id\n",
       "0     Breaking Bad       1396\n",
       "1  Game of Thrones       1399\n",
       "2   Rick and Morty      60625\n",
       "3  Stranger Things      66732\n",
       "4         The Boys      76479"
      ]
     },
     "execution_count": 20,
     "metadata": {},
     "output_type": "execute_result"
    }
   ],
   "source": [
    "df2.head()"
   ]
  },
  {
   "cell_type": "code",
   "execution_count": 29,
   "id": "47be49ca",
   "metadata": {},
   "outputs": [
    {
     "data": {
      "text/plain": [
       "(11034, 2)"
      ]
     },
     "execution_count": 29,
     "metadata": {},
     "output_type": "execute_result"
    }
   ],
   "source": [
    "df2.shape"
   ]
  },
  {
   "cell_type": "code",
   "execution_count": 22,
   "id": "c98ac7da",
   "metadata": {},
   "outputs": [],
   "source": [
    "df3=pd.merge(df,df2, on=[\"Series Title\"])"
   ]
  },
  {
   "cell_type": "code",
   "execution_count": 33,
   "id": "f119b13e",
   "metadata": {},
   "outputs": [
    {
     "data": {
      "text/plain": [
       "(12353, 9)"
      ]
     },
     "execution_count": 33,
     "metadata": {},
     "output_type": "execute_result"
    }
   ],
   "source": [
    "df.shape"
   ]
  },
  {
   "cell_type": "code",
   "execution_count": 31,
   "id": "45d8a68c",
   "metadata": {},
   "outputs": [
    {
     "data": {
      "text/plain": [
       "(11551, 10)"
      ]
     },
     "execution_count": 31,
     "metadata": {},
     "output_type": "execute_result"
    }
   ],
   "source": [
    "df3.shape"
   ]
  },
  {
   "cell_type": "code",
   "execution_count": 41,
   "id": "1ff2d5bf",
   "metadata": {},
   "outputs": [],
   "source": [
    "df3.drop_duplicates(inplace=True)"
   ]
  },
  {
   "cell_type": "code",
   "execution_count": 42,
   "id": "dacbec80",
   "metadata": {},
   "outputs": [
    {
     "data": {
      "text/plain": [
       "(11025, 10)"
      ]
     },
     "execution_count": 42,
     "metadata": {},
     "output_type": "execute_result"
    }
   ],
   "source": [
    "df3.shape"
   ]
  },
  {
   "cell_type": "code",
   "execution_count": 43,
   "id": "ed7790ed",
   "metadata": {},
   "outputs": [
    {
     "data": {
      "text/html": [
       "<div>\n",
       "<style scoped>\n",
       "    .dataframe tbody tr th:only-of-type {\n",
       "        vertical-align: middle;\n",
       "    }\n",
       "\n",
       "    .dataframe tbody tr th {\n",
       "        vertical-align: top;\n",
       "    }\n",
       "\n",
       "    .dataframe thead th {\n",
       "        text-align: right;\n",
       "    }\n",
       "</style>\n",
       "<table border=\"1\" class=\"dataframe\">\n",
       "  <thead>\n",
       "    <tr style=\"text-align: right;\">\n",
       "      <th></th>\n",
       "      <th>Series Title</th>\n",
       "      <th>Year Released</th>\n",
       "      <th>Content Rating</th>\n",
       "      <th>IMDB Rating</th>\n",
       "      <th>R Rating</th>\n",
       "      <th>Genre</th>\n",
       "      <th>Description</th>\n",
       "      <th>No of Seasons</th>\n",
       "      <th>Streaming Platform</th>\n",
       "      <th>Series Id</th>\n",
       "    </tr>\n",
       "  </thead>\n",
       "  <tbody>\n",
       "    <tr>\n",
       "      <th>0</th>\n",
       "      <td>Breaking Bad</td>\n",
       "      <td>2008</td>\n",
       "      <td>18+</td>\n",
       "      <td>9.5</td>\n",
       "      <td>100</td>\n",
       "      <td>Crime,Drama</td>\n",
       "      <td>When Walter White, a New Mexico chemistry teac...</td>\n",
       "      <td>5Seasons</td>\n",
       "      <td>Netflix</td>\n",
       "      <td>1396</td>\n",
       "    </tr>\n",
       "    <tr>\n",
       "      <th>1</th>\n",
       "      <td>Game of Thrones</td>\n",
       "      <td>2011</td>\n",
       "      <td>18+</td>\n",
       "      <td>9.3</td>\n",
       "      <td>99</td>\n",
       "      <td>Action &amp; Adventure,Drama</td>\n",
       "      <td>Seven noble families fight for control of the ...</td>\n",
       "      <td>8Seasons</td>\n",
       "      <td>HBO MAX,HBO</td>\n",
       "      <td>1399</td>\n",
       "    </tr>\n",
       "    <tr>\n",
       "      <th>2</th>\n",
       "      <td>Rick and Morty</td>\n",
       "      <td>2013</td>\n",
       "      <td>18+</td>\n",
       "      <td>9.2</td>\n",
       "      <td>97</td>\n",
       "      <td>Animation,Comedy</td>\n",
       "      <td>Rick is a mentally-unbalanced but scientifical...</td>\n",
       "      <td>4Seasons</td>\n",
       "      <td>Free Services,HBO MAX,Hulu</td>\n",
       "      <td>60625</td>\n",
       "    </tr>\n",
       "    <tr>\n",
       "      <th>3</th>\n",
       "      <td>Stranger Things</td>\n",
       "      <td>2016</td>\n",
       "      <td>16+</td>\n",
       "      <td>8.8</td>\n",
       "      <td>96</td>\n",
       "      <td>Drama,Fantasy</td>\n",
       "      <td>When a young boy vanishes, a small town uncove...</td>\n",
       "      <td>3Seasons</td>\n",
       "      <td>Netflix</td>\n",
       "      <td>66732</td>\n",
       "    </tr>\n",
       "    <tr>\n",
       "      <th>4</th>\n",
       "      <td>The Boys</td>\n",
       "      <td>2019</td>\n",
       "      <td>18+</td>\n",
       "      <td>8.7</td>\n",
       "      <td>95</td>\n",
       "      <td>Action &amp; Adventure,Comedy</td>\n",
       "      <td>A group of vigilantes known informally as “The...</td>\n",
       "      <td>2Seasons</td>\n",
       "      <td>Prime Video</td>\n",
       "      <td>76479</td>\n",
       "    </tr>\n",
       "  </tbody>\n",
       "</table>\n",
       "</div>"
      ],
      "text/plain": [
       "      Series Title  Year Released Content Rating  IMDB Rating  R Rating  \\\n",
       "0     Breaking Bad           2008            18+          9.5       100   \n",
       "1  Game of Thrones           2011            18+          9.3        99   \n",
       "2   Rick and Morty           2013            18+          9.2        97   \n",
       "3  Stranger Things           2016            16+          8.8        96   \n",
       "4         The Boys           2019            18+          8.7        95   \n",
       "\n",
       "                       Genre  \\\n",
       "0                Crime,Drama   \n",
       "1   Action & Adventure,Drama   \n",
       "2           Animation,Comedy   \n",
       "3              Drama,Fantasy   \n",
       "4  Action & Adventure,Comedy   \n",
       "\n",
       "                                         Description No of Seasons  \\\n",
       "0  When Walter White, a New Mexico chemistry teac...      5Seasons   \n",
       "1  Seven noble families fight for control of the ...      8Seasons   \n",
       "2  Rick is a mentally-unbalanced but scientifical...      4Seasons   \n",
       "3  When a young boy vanishes, a small town uncove...      3Seasons   \n",
       "4  A group of vigilantes known informally as “The...      2Seasons   \n",
       "\n",
       "           Streaming Platform  Series Id  \n",
       "0                     Netflix       1396  \n",
       "1                 HBO MAX,HBO       1399  \n",
       "2  Free Services,HBO MAX,Hulu      60625  \n",
       "3                     Netflix      66732  \n",
       "4                 Prime Video      76479  "
      ]
     },
     "execution_count": 43,
     "metadata": {},
     "output_type": "execute_result"
    }
   ],
   "source": [
    "df3.head()"
   ]
  },
  {
   "cell_type": "code",
   "execution_count": null,
   "id": "d42cc5c1",
   "metadata": {},
   "outputs": [],
   "source": []
  }
 ],
 "metadata": {
  "kernelspec": {
   "display_name": "Python 3 (ipykernel)",
   "language": "python",
   "name": "python3"
  },
  "language_info": {
   "codemirror_mode": {
    "name": "ipython",
    "version": 3
   },
   "file_extension": ".py",
   "mimetype": "text/x-python",
   "name": "python",
   "nbconvert_exporter": "python",
   "pygments_lexer": "ipython3",
   "version": "3.9.12"
  }
 },
 "nbformat": 4,
 "nbformat_minor": 5
}
